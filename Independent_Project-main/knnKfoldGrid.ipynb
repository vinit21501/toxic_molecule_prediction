{
 "cells": [
  {
   "cell_type": "code",
   "execution_count": 2,
   "metadata": {},
   "source": [
    "import numpy as np\n",
    "import pandas as pd\n",
    "# df=pd.read_excel(\"allfeatures.xlsx\")\n",
    "df=pd.read_csv(\"allfeatures.csv\")\n",
    "print(f'shapte of feateures: {df.shape}')\n",
    "print(f'total na values: {df.isna().sum().sum()}')\n",
    "print(f'total null values: {df.isnull().sum().sum()}')"
   ],
   "outputs": [
    {
     "name": "stdout",
     "output_type": "stream",
     "text": [
      "shapte of feateures: (7722, 1389)\ntotal na values: 0\ntotal null values: 0\n"
     ]
    }
   ]
  },
  {
   "cell_type": "code",
   "execution_count": 4,
   "metadata": {},
   "source": [
    "from sklearn.datasets import load_iris\n",
    "from sklearn.model_selection import train_test_split, GridSearchCV\n",
    "from sklearn.neighbors import KNeighborsClassifier\n",
    "from sklearn.metrics import classification_report, accuracy_score, roc_auc_score, f1_score\n",
    "from sklearn.preprocessing import StandardScaler\n",
    "\n",
    "X = df.drop(['pcid', 'class', 'smile'], axis=1)  # feature matrix\n",
    "y = df['class']  # label vector\n",
    "\n",
    "# Splitting the dataset into training and testing sets\n",
    "X_train, X_test, y_train, y_test = train_test_split(X, y, test_size=0.3, random_state=42)\n",
    "\n",
    "# Feature scaling for better performance of KNN\n",
    "scaler = StandardScaler()\n",
    "X_train_scaled = scaler.fit_transform(X_train)\n",
    "X_test_scaled = scaler.transform(X_test)\n",
    "\n",
    "# Setting the parameter grid\n",
    "param_grid = {\n",
    "    'n_neighbors': [1, 2, 3, 4, 5],\n",
    "    'weights': ['uniform', 'distance'],\n",
    "    'metric': ['euclidean', 'manhattan']\n",
    "}\n",
    "\n",
    "# Creating a KNN model\n",
    "knn = KNeighborsClassifier()\n",
    "\n",
    "# Using GridSearchCV to find the best parameters\n",
    "grid_search = GridSearchCV(knn, param_grid, cv=5, scoring='accuracy')\n",
    "grid_search.fit(X_train_scaled, y_train)\n",
    "\n",
    "# Best parameters and best score\n",
    "print(\"Best parameters:\", grid_search.best_params_)\n",
    "print(\"Best cross-validation score: {:.2f}\".format(grid_search.best_score_))\n",
    "\n",
    "# Evaluating the best model on the test set\n",
    "best_model = grid_search.best_estimator_\n",
    "y_pred = best_model.predict(X_test_scaled)\n",
    "\n",
    "# Accuracy\n",
    "print(\"Test set accuracy: {:.2f}\".format(accuracy_score(y_test, y_pred)))\n",
    "\n",
    "# Classification Report (includes F1 score, precision, and recall)\n",
    "print(\"Classification Report:\\n\", classification_report(y_test, y_pred))\n",
    "\n",
    "\n",
    "if len(y.unique()) == 2:\n",
    "    # Convert to probability scores if y is binary\n",
    "    y_proba = best_model.predict_proba(X_test_scaled)[:, 1]\n",
    "    auc = roc_auc_score(y_test, y_proba)\n",
    "    print(\"ROC AUC Score:\", auc)\n",
    "else:\n",
    "    print(\"ROC AUC Score is not computed because the target class is not binary.\")"
   ],
   "outputs": [
    {
     "name": "stdout",
     "output_type": "stream",
     "text": [
      "Best parameters: {'metric': 'manhattan', 'n_neighbors': 3, 'weights': 'uniform'}\nBest cross-validation score: 0.84\n",
      "Test set accuracy: 0.85\nClassification Report:\n               precision    recall  f1-score   support\n\n           0       0.84      0.88      0.86      1211\n           1       0.86      0.81      0.84      1106\n\n    accuracy                           0.85      2317\n   macro avg       0.85      0.85      0.85      2317\nweighted avg       0.85      0.85      0.85      2317\n\n",
      "ROC AUC Score: 0.908139373405029\n"
     ]
    }
   ]
  },
  {
   "cell_type": "code",
   "execution_count": null,
   "metadata": {},
   "source": [],
   "outputs": []
  }
 ],
 "metadata": {
  "kernelspec": {
   "display_name": "Python 3",
   "language": "python",
   "name": "python3"
  },
  "language_info": {
   "file_extension": ".py",
   "mimetype": "text/x-python",
   "name": "python",
   "version": "3.9.2"
  }
 },
 "nbformat": 4,
 "nbformat_minor": 4
}
